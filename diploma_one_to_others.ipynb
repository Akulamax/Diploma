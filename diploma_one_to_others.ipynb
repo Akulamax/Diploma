{
 "cells": [
  {
   "cell_type": "code",
   "execution_count": null,
   "metadata": {
    "colab": {
     "base_uri": "https://localhost:8080/",
     "height": 488
    },
    "id": "JzA1ODdJw9Ep",
    "outputId": "7a026683-1126-4561-8b42-deef04b4031b"
   },
   "outputs": [],
   "source": [
    "import pandas as pd\n",
    "data = pd.read_csv(r'C:\\Users\\misha\\Desktop\\total_dataset_to_ML.csv')\n",
    "data"
   ]
  },
  {
   "cell_type": "code",
   "execution_count": null,
   "metadata": {},
   "outputs": [],
   "source": [
    "data['target'].value_counts()"
   ]
  },
  {
   "cell_type": "code",
   "execution_count": null,
   "metadata": {
    "colab": {
     "base_uri": "https://localhost:8080/"
    },
    "id": "IeVV_oKXw9KY",
    "outputId": "e0ffef48-e5e8-4fd1-fb6d-bb884170ba45",
    "scrolled": false
   },
   "outputs": [],
   "source": [
    "import pandas as pd\n",
    "from sklearn.model_selection import train_test_split\n",
    "from sklearn.ensemble import RandomForestClassifier\n",
    "from sklearn.tree import DecisionTreeClassifier\n",
    "from sklearn.neighbors import KNeighborsClassifier\n",
    "from sklearn.svm import SVC\n",
    "from sklearn.metrics import classification_report, confusion_matrix\n",
    "from sklearn.model_selection import StratifiedShuffleSplit\n",
    "from sklearn.model_selection import GridSearchCV\n",
    "from sklearn.model_selection import cross_val_score\n",
    "from sklearn.metrics import recall_score\n",
    "from datetime import datetime\n",
    "from imblearn.over_sampling import SMOTE\n",
    "from imblearn.pipeline import Pipeline\n",
    "from sklearn.model_selection import train_test_split\n",
    "\n",
    "\n",
    "for i in [3,5,6,7]:\n",
    "    copy_data = data.copy()\n",
    "    tmp = [0, 1, 2, 3, 4, 5, 6, 7]\n",
    "    tmp.remove(i)\n",
    "    copy_data['target'] = copy_data['target'].replace(tmp, [0, 0, 0, 0, 0, 0, 0])\n",
    "    copy_data['target'] = copy_data['target'].replace(i, 1)\n",
    "    X = copy_data.drop(['target'], axis=1)\n",
    "    y = copy_data['target']\n",
    "    X_train, X_test, y_train, y_test = train_test_split(X, y, test_size=0.25,random_state=42)\n",
    "    \n",
    "    param_grid_svm = {\n",
    "        'kernel': ['sigmoid', 'poly', 'rbf']\n",
    "    }\n",
    "\n",
    "    param_grid_knn = {\n",
    "        'n_neighbors': [1,2,3,4,5,6,7,8,9,10,11,12]\n",
    "    }\n",
    "\n",
    "    param_grid_dt = {\n",
    "        'max_depth':  [8, 10, 12],\n",
    "        'max_features': ['log2', 0.2, 0.3],\n",
    "    }\n",
    "\n",
    "    param_grid_rf = {\n",
    "        'n_estimators': [100, 300],\n",
    "        'max_features': ['sqrt', 0.2],\n",
    "        'max_depth': [8, 10],\n",
    "    }\n",
    "\n",
    "    models = []\n",
    "    models.append(('SVM', SVC(), param_grid_svm))\n",
    "    models.append(('KNN', KNeighborsClassifier(), param_grid_knn))\n",
    "    models.append(('DT', DecisionTreeClassifier(), param_grid_dt))\n",
    "    models.append(('RF', RandomForestClassifier(), param_grid_rf))\n",
    "\n",
    "\n",
    "    for name, model, parameters in models:\n",
    "        name += f'_one_to_other_with_{i}_class'\n",
    "        start_time = datetime.now()\n",
    "        print(start_time)\n",
    "        cv = StratifiedShuffleSplit(n_splits=5, test_size=0.25, random_state=42)\n",
    "        model = GridSearchCV(estimator=model, param_grid=parameters, scoring='recall_macro', cv=cv, verbose=10, n_jobs=1)\n",
    "        model.fit(X_train, y_train)\n",
    "        print(name)\n",
    "        print('best score: ', model.best_score_)\n",
    "        print('best estimator: ', model.best_estimator_)\n",
    "        pred = model.best_estimator_.predict(X_test)\n",
    "        print(confusion_matrix(y_test, pred))\n",
    "        print(classification_report(y_test, pred))\n",
    "        print(name, datetime.now() - start_time)"
   ]
  },
  {
   "cell_type": "code",
   "execution_count": null,
   "metadata": {},
   "outputs": [],
   "source": []
  }
 ],
 "metadata": {
  "colab": {
   "provenance": []
  },
  "kernelspec": {
   "display_name": "Python 3 (ipykernel)",
   "language": "python",
   "name": "python3"
  },
  "language_info": {
   "codemirror_mode": {
    "name": "ipython",
    "version": 3
   },
   "file_extension": ".py",
   "mimetype": "text/x-python",
   "name": "python",
   "nbconvert_exporter": "python",
   "pygments_lexer": "ipython3",
   "version": "3.9.7"
  }
 },
 "nbformat": 4,
 "nbformat_minor": 1
}
