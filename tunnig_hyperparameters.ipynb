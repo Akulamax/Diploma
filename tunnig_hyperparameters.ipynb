{
 "cells": [
  {
   "cell_type": "code",
   "execution_count": null,
   "metadata": {
    "colab": {
     "base_uri": "https://localhost:8080/",
     "height": 488
    },
    "id": "JzA1ODdJw9Ep",
    "outputId": "7a026683-1126-4561-8b42-deef04b4031b"
   },
   "outputs": [],
   "source": [
    "import pandas as pd\n",
    "data = pd.read_csv(r'C:\\Users\\misha\\Desktop\\total_dataset_to_ML.csv')\n",
    "data"
   ]
  },
  {
   "cell_type": "code",
   "execution_count": null,
   "metadata": {
    "colab": {
     "base_uri": "https://localhost:8080/",
     "height": 488
    },
    "id": "IxHKHLOeHfsa",
    "outputId": "9e54289f-b7e5-4061-eece-3c8a20205d05"
   },
   "outputs": [],
   "source": [
    "#data = data[data['target'].isin([0, 1, 2, 4])]\n",
    "data"
   ]
  },
  {
   "cell_type": "code",
   "execution_count": null,
   "metadata": {
    "colab": {
     "base_uri": "https://localhost:8080/",
     "height": 237
    },
    "id": "3KZJDaGdyftL",
    "outputId": "c1831369-a36a-42c6-c0cd-2a5ebd136fca"
   },
   "outputs": [],
   "source": [
    "X = data.drop(['target'], axis=1)\n",
    "X.head(3)"
   ]
  },
  {
   "cell_type": "code",
   "execution_count": null,
   "metadata": {
    "colab": {
     "base_uri": "https://localhost:8080/"
    },
    "id": "Ef0ojdwpyfzZ",
    "outputId": "32916a0b-6b9e-4010-8e3d-9dfb86c72c99"
   },
   "outputs": [],
   "source": [
    "y = data['target']\n",
    "y.head(3)"
   ]
  },
  {
   "cell_type": "code",
   "execution_count": null,
   "metadata": {
    "colab": {
     "base_uri": "https://localhost:8080/"
    },
    "id": "EQmJVTc61_sY",
    "outputId": "e1e79ee9-41d8-4d1b-cd3e-ec724cb8df5b"
   },
   "outputs": [],
   "source": [
    "y.value_counts()"
   ]
  },
  {
   "cell_type": "code",
   "execution_count": null,
   "metadata": {
    "id": "bYEEbUASw4zs"
   },
   "outputs": [],
   "source": [
    "from sklearn.model_selection import train_test_split\n",
    "\n",
    "X_train, X_test, y_train, y_test = train_test_split(X, y, test_size=0.25,random_state=42)"
   ]
  },
  {
   "cell_type": "code",
   "execution_count": null,
   "metadata": {
    "colab": {
     "base_uri": "https://localhost:8080/"
    },
    "id": "hVE_ohVNpKRF",
    "outputId": "cfd0b7d8-d79b-4d41-fa21-16d11ab4bfdb"
   },
   "outputs": [],
   "source": [
    "y_train.value_counts()"
   ]
  },
  {
   "cell_type": "code",
   "execution_count": null,
   "metadata": {
    "colab": {
     "base_uri": "https://localhost:8080/"
    },
    "id": "7FhZoVxbpKXR",
    "outputId": "2251e6b1-af81-49db-a33d-4ae49dbf2b44"
   },
   "outputs": [],
   "source": [
    "y_test.value_counts()"
   ]
  },
  {
   "cell_type": "code",
   "execution_count": null,
   "metadata": {
    "colab": {
     "base_uri": "https://localhost:8080/"
    },
    "id": "IeVV_oKXw9KY",
    "outputId": "e0ffef48-e5e8-4fd1-fb6d-bb884170ba45",
    "scrolled": false
   },
   "outputs": [],
   "source": [
    "import pandas as pd\n",
    "from sklearn.model_selection import train_test_split\n",
    "from sklearn.ensemble import RandomForestClassifier\n",
    "from sklearn.tree import DecisionTreeClassifier\n",
    "from sklearn.neighbors import KNeighborsClassifier\n",
    "from sklearn.svm import SVC\n",
    "from sklearn.metrics import classification_report, confusion_matrix\n",
    "from sklearn.model_selection import StratifiedShuffleSplit\n",
    "from sklearn.model_selection import GridSearchCV\n",
    "from sklearn.model_selection import cross_val_score\n",
    "from sklearn.metrics import recall_score\n",
    "from datetime import datetime\n",
    "from imblearn.over_sampling import SMOTE\n",
    "from imblearn.pipeline import Pipeline\n",
    "\n",
    "param_grid_svm = {\n",
    "    'sampling__sampling_strategy': ['not majority'],\n",
    "    'SVM__C': [0.1, 1],\n",
    "    'SVM__gamma': [1, 0.1],\n",
    "    'SVM__kernel': ['sigmoid', 'poly', 'rbf']\n",
    "}\n",
    "\n",
    "param_grid_knn = {\n",
    "    'sampling__sampling_strategy': ['not majority'],\n",
    "    'KNN__n_neighbors': [1,2,3,4,5,6,7,8,9,10,11,12]\n",
    "}\n",
    "\n",
    "param_grid_dt = {\n",
    "    'sampling__sampling_strategy': ['not majority'],\n",
    "    'criterion':  ['gini', entropy], \n",
    "    'DT__max_depth':  [8, 10, 12, 14],\n",
    "    'DT__max_features': ['log2', 0.2, 0.3, 0.4],\n",
    "    'splitter': ['best', 'random']\n",
    "}\n",
    "\n",
    "param_grid_rf = {\n",
    "    'sampling__sampling_strategy': ['not majority'],\n",
    "    'RF__n_estimators': [100, 300],\n",
    "    'RF__max_features': ['sqrt', 0.2],\n",
    "    'RF__max_depth': [8, 10, 12],\n",
    "    'criterion': ['gini', 'entropy']\n",
    "}\n",
    "\n",
    "models = []\n",
    "models.append(('SVM', SVC(), param_grid_svm))\n",
    "models.append(('KNN', KNeighborsClassifier(), param_grid_knn))\n",
    "models.append(('DT', DecisionTreeClassifier(), param_grid_dt))\n",
    "models.append(('RF', RandomForestClassifier(), param_grid_rf))\n",
    "\n",
    "\n",
    "for name, model, parameters in models:\n",
    "    model = Pipeline([\n",
    "        ('sampling', SMOTE()),\n",
    "        (name, model),\n",
    "    ])\n",
    "    start_time = datetime.now()\n",
    "    print(start_time)\n",
    "    cv = StratifiedShuffleSplit(n_splits=5, test_size=0.25, random_state=42)\n",
    "    model = GridSearchCV(estimator=model, param_grid=parameters, scoring='recall_macro', cv=cv, verbose=10, n_jobs=1)\n",
    "    model.fit(X_train, y_train)\n",
    "    print(name)\n",
    "    print('best score: ', model.best_score_)\n",
    "    print('best estimator: ', model.best_estimator_)\n",
    "    pred = model.best_estimator_.predict(X_test)\n",
    "    print(confusion_matrix(y_test, pred))\n",
    "    print(classification_report(y_test, pred))\n",
    "    print(name, datetime.now() - start_time)"
   ]
  }
 ],
 "metadata": {
  "colab": {
   "provenance": []
  },
  "kernelspec": {
   "display_name": "Python 3 (ipykernel)",
   "language": "python",
   "name": "python3"
  },
  "language_info": {
   "codemirror_mode": {
    "name": "ipython",
    "version": 3
   },
   "file_extension": ".py",
   "mimetype": "text/x-python",
   "name": "python",
   "nbconvert_exporter": "python",
   "pygments_lexer": "ipython3",
   "version": "3.9.7"
  }
 },
 "nbformat": 4,
 "nbformat_minor": 1
}
